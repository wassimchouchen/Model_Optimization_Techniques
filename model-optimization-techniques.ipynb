{
 "cells": [
  {
   "cell_type": "code",
   "execution_count": 1,
   "id": "91561547",
   "metadata": {
    "_cell_guid": "b1076dfc-b9ad-4769-8c92-a6c4dae69d19",
    "_uuid": "8f2839f25d086af736a60e9eeb907d3b93b6e0e5",
    "execution": {
     "iopub.execute_input": "2022-02-09T11:48:41.076817Z",
     "iopub.status.busy": "2022-02-09T11:48:41.076182Z",
     "iopub.status.idle": "2022-02-09T11:48:42.262953Z",
     "shell.execute_reply": "2022-02-09T11:48:42.262240Z",
     "shell.execute_reply.started": "2022-02-09T10:13:44.030584Z"
    },
    "papermill": {
     "duration": 1.234191,
     "end_time": "2022-02-09T11:48:42.263136",
     "exception": false,
     "start_time": "2022-02-09T11:48:41.028945",
     "status": "completed"
    },
    "tags": []
   },
   "outputs": [],
   "source": [
    "import matplotlib.pyplot as plt\n",
    "import numpy as np \n",
    "import pandas as pd\n",
    "import matplotlib.style as stl\n",
    "import seaborn as sns\n",
    "%matplotlib inline\n",
    "import random\n",
    "import warnings\n",
    "warnings.filterwarnings('ignore')\n"
   ]
  },
  {
   "cell_type": "code",
   "execution_count": 2,
   "id": "e3d7a726",
   "metadata": {
    "execution": {
     "iopub.execute_input": "2022-02-09T11:48:42.341413Z",
     "iopub.status.busy": "2022-02-09T11:48:42.340678Z",
     "iopub.status.idle": "2022-02-09T11:48:42.378525Z",
     "shell.execute_reply": "2022-02-09T11:48:42.379015Z",
     "shell.execute_reply.started": "2022-02-09T10:13:45.041335Z"
    },
    "papermill": {
     "duration": 0.078354,
     "end_time": "2022-02-09T11:48:42.379201",
     "exception": false,
     "start_time": "2022-02-09T11:48:42.300847",
     "status": "completed"
    },
    "tags": []
   },
   "outputs": [],
   "source": [
    "data=pd.read_csv(\"../input/cryptocurrencypricehistory/coin_Bitcoin.csv\")\n"
   ]
  },
  {
   "cell_type": "code",
   "execution_count": 3,
   "id": "84aa86ff",
   "metadata": {
    "execution": {
     "iopub.execute_input": "2022-02-09T11:48:42.457453Z",
     "iopub.status.busy": "2022-02-09T11:48:42.456742Z",
     "iopub.status.idle": "2022-02-09T11:48:42.482736Z",
     "shell.execute_reply": "2022-02-09T11:48:42.482071Z",
     "shell.execute_reply.started": "2022-02-09T10:13:45.077585Z"
    },
    "papermill": {
     "duration": 0.066715,
     "end_time": "2022-02-09T11:48:42.482881",
     "exception": false,
     "start_time": "2022-02-09T11:48:42.416166",
     "status": "completed"
    },
    "tags": []
   },
   "outputs": [
    {
     "data": {
      "text/html": [
       "<div>\n",
       "<style scoped>\n",
       "    .dataframe tbody tr th:only-of-type {\n",
       "        vertical-align: middle;\n",
       "    }\n",
       "\n",
       "    .dataframe tbody tr th {\n",
       "        vertical-align: top;\n",
       "    }\n",
       "\n",
       "    .dataframe thead th {\n",
       "        text-align: right;\n",
       "    }\n",
       "</style>\n",
       "<table border=\"1\" class=\"dataframe\">\n",
       "  <thead>\n",
       "    <tr style=\"text-align: right;\">\n",
       "      <th></th>\n",
       "      <th>SNo</th>\n",
       "      <th>Name</th>\n",
       "      <th>Symbol</th>\n",
       "      <th>Date</th>\n",
       "      <th>High</th>\n",
       "      <th>Low</th>\n",
       "      <th>Open</th>\n",
       "      <th>Close</th>\n",
       "      <th>Volume</th>\n",
       "      <th>Marketcap</th>\n",
       "    </tr>\n",
       "  </thead>\n",
       "  <tbody>\n",
       "    <tr>\n",
       "      <th>0</th>\n",
       "      <td>1</td>\n",
       "      <td>Bitcoin</td>\n",
       "      <td>BTC</td>\n",
       "      <td>2013-04-29 23:59:59</td>\n",
       "      <td>147.488007</td>\n",
       "      <td>134.000000</td>\n",
       "      <td>134.444000</td>\n",
       "      <td>144.539993</td>\n",
       "      <td>0.0</td>\n",
       "      <td>1.603769e+09</td>\n",
       "    </tr>\n",
       "    <tr>\n",
       "      <th>1</th>\n",
       "      <td>2</td>\n",
       "      <td>Bitcoin</td>\n",
       "      <td>BTC</td>\n",
       "      <td>2013-04-30 23:59:59</td>\n",
       "      <td>146.929993</td>\n",
       "      <td>134.050003</td>\n",
       "      <td>144.000000</td>\n",
       "      <td>139.000000</td>\n",
       "      <td>0.0</td>\n",
       "      <td>1.542813e+09</td>\n",
       "    </tr>\n",
       "    <tr>\n",
       "      <th>2</th>\n",
       "      <td>3</td>\n",
       "      <td>Bitcoin</td>\n",
       "      <td>BTC</td>\n",
       "      <td>2013-05-01 23:59:59</td>\n",
       "      <td>139.889999</td>\n",
       "      <td>107.720001</td>\n",
       "      <td>139.000000</td>\n",
       "      <td>116.989998</td>\n",
       "      <td>0.0</td>\n",
       "      <td>1.298955e+09</td>\n",
       "    </tr>\n",
       "    <tr>\n",
       "      <th>3</th>\n",
       "      <td>4</td>\n",
       "      <td>Bitcoin</td>\n",
       "      <td>BTC</td>\n",
       "      <td>2013-05-02 23:59:59</td>\n",
       "      <td>125.599998</td>\n",
       "      <td>92.281898</td>\n",
       "      <td>116.379997</td>\n",
       "      <td>105.209999</td>\n",
       "      <td>0.0</td>\n",
       "      <td>1.168517e+09</td>\n",
       "    </tr>\n",
       "    <tr>\n",
       "      <th>4</th>\n",
       "      <td>5</td>\n",
       "      <td>Bitcoin</td>\n",
       "      <td>BTC</td>\n",
       "      <td>2013-05-03 23:59:59</td>\n",
       "      <td>108.127998</td>\n",
       "      <td>79.099998</td>\n",
       "      <td>106.250000</td>\n",
       "      <td>97.750000</td>\n",
       "      <td>0.0</td>\n",
       "      <td>1.085995e+09</td>\n",
       "    </tr>\n",
       "  </tbody>\n",
       "</table>\n",
       "</div>"
      ],
      "text/plain": [
       "   SNo     Name Symbol                 Date        High         Low  \\\n",
       "0    1  Bitcoin    BTC  2013-04-29 23:59:59  147.488007  134.000000   \n",
       "1    2  Bitcoin    BTC  2013-04-30 23:59:59  146.929993  134.050003   \n",
       "2    3  Bitcoin    BTC  2013-05-01 23:59:59  139.889999  107.720001   \n",
       "3    4  Bitcoin    BTC  2013-05-02 23:59:59  125.599998   92.281898   \n",
       "4    5  Bitcoin    BTC  2013-05-03 23:59:59  108.127998   79.099998   \n",
       "\n",
       "         Open       Close  Volume     Marketcap  \n",
       "0  134.444000  144.539993     0.0  1.603769e+09  \n",
       "1  144.000000  139.000000     0.0  1.542813e+09  \n",
       "2  139.000000  116.989998     0.0  1.298955e+09  \n",
       "3  116.379997  105.209999     0.0  1.168517e+09  \n",
       "4  106.250000   97.750000     0.0  1.085995e+09  "
      ]
     },
     "execution_count": 3,
     "metadata": {},
     "output_type": "execute_result"
    }
   ],
   "source": [
    "data.head()"
   ]
  },
  {
   "cell_type": "code",
   "execution_count": 4,
   "id": "4e860068",
   "metadata": {
    "execution": {
     "iopub.execute_input": "2022-02-09T11:48:42.565497Z",
     "iopub.status.busy": "2022-02-09T11:48:42.564647Z",
     "iopub.status.idle": "2022-02-09T11:48:42.567805Z",
     "shell.execute_reply": "2022-02-09T11:48:42.568313Z",
     "shell.execute_reply.started": "2022-02-09T10:13:45.102647Z"
    },
    "papermill": {
     "duration": 0.04765,
     "end_time": "2022-02-09T11:48:42.568529",
     "exception": false,
     "start_time": "2022-02-09T11:48:42.520879",
     "status": "completed"
    },
    "tags": []
   },
   "outputs": [
    {
     "data": {
      "text/plain": [
       "(2991, 10)"
      ]
     },
     "execution_count": 4,
     "metadata": {},
     "output_type": "execute_result"
    }
   ],
   "source": [
    "data.shape"
   ]
  },
  {
   "cell_type": "code",
   "execution_count": 5,
   "id": "94de599e",
   "metadata": {
    "execution": {
     "iopub.execute_input": "2022-02-09T11:48:42.654556Z",
     "iopub.status.busy": "2022-02-09T11:48:42.653496Z",
     "iopub.status.idle": "2022-02-09T11:48:42.680113Z",
     "shell.execute_reply": "2022-02-09T11:48:42.678845Z",
     "shell.execute_reply.started": "2022-02-09T10:13:45.11052Z"
    },
    "papermill": {
     "duration": 0.072925,
     "end_time": "2022-02-09T11:48:42.680430",
     "exception": false,
     "start_time": "2022-02-09T11:48:42.607505",
     "status": "completed"
    },
    "tags": []
   },
   "outputs": [
    {
     "name": "stdout",
     "output_type": "stream",
     "text": [
      "<class 'pandas.core.frame.DataFrame'>\n",
      "RangeIndex: 2991 entries, 0 to 2990\n",
      "Data columns (total 10 columns):\n",
      " #   Column     Non-Null Count  Dtype  \n",
      "---  ------     --------------  -----  \n",
      " 0   SNo        2991 non-null   int64  \n",
      " 1   Name       2991 non-null   object \n",
      " 2   Symbol     2991 non-null   object \n",
      " 3   Date       2991 non-null   object \n",
      " 4   High       2991 non-null   float64\n",
      " 5   Low        2991 non-null   float64\n",
      " 6   Open       2991 non-null   float64\n",
      " 7   Close      2991 non-null   float64\n",
      " 8   Volume     2991 non-null   float64\n",
      " 9   Marketcap  2991 non-null   float64\n",
      "dtypes: float64(6), int64(1), object(3)\n",
      "memory usage: 233.8+ KB\n"
     ]
    }
   ],
   "source": [
    "data.info()"
   ]
  },
  {
   "cell_type": "code",
   "execution_count": 6,
   "id": "0a28a020",
   "metadata": {
    "execution": {
     "iopub.execute_input": "2022-02-09T11:48:42.762865Z",
     "iopub.status.busy": "2022-02-09T11:48:42.762163Z",
     "iopub.status.idle": "2022-02-09T11:48:42.769019Z",
     "shell.execute_reply": "2022-02-09T11:48:42.768485Z",
     "shell.execute_reply.started": "2022-02-09T10:13:45.1407Z"
    },
    "papermill": {
     "duration": 0.049453,
     "end_time": "2022-02-09T11:48:42.769156",
     "exception": false,
     "start_time": "2022-02-09T11:48:42.719703",
     "status": "completed"
    },
    "tags": []
   },
   "outputs": [
    {
     "data": {
      "text/plain": [
       "SNo          0\n",
       "Name         0\n",
       "Symbol       0\n",
       "Date         0\n",
       "High         0\n",
       "Low          0\n",
       "Open         0\n",
       "Close        0\n",
       "Volume       0\n",
       "Marketcap    0\n",
       "dtype: int64"
      ]
     },
     "execution_count": 6,
     "metadata": {},
     "output_type": "execute_result"
    }
   ],
   "source": [
    "data.isna().sum()"
   ]
  },
  {
   "cell_type": "markdown",
   "id": "71e1cf46",
   "metadata": {
    "papermill": {
     "duration": 0.036391,
     "end_time": "2022-02-09T11:48:42.842094",
     "exception": false,
     "start_time": "2022-02-09T11:48:42.805703",
     "status": "completed"
    },
    "tags": []
   },
   "source": [
    "dealing with datetime"
   ]
  },
  {
   "cell_type": "code",
   "execution_count": 7,
   "id": "cf96ac49",
   "metadata": {
    "execution": {
     "iopub.execute_input": "2022-02-09T11:48:42.936032Z",
     "iopub.status.busy": "2022-02-09T11:48:42.934826Z",
     "iopub.status.idle": "2022-02-09T11:48:42.949691Z",
     "shell.execute_reply": "2022-02-09T11:48:42.949122Z",
     "shell.execute_reply.started": "2022-02-09T10:13:45.154453Z"
    },
    "papermill": {
     "duration": 0.067573,
     "end_time": "2022-02-09T11:48:42.949843",
     "exception": false,
     "start_time": "2022-02-09T11:48:42.882270",
     "status": "completed"
    },
    "tags": []
   },
   "outputs": [],
   "source": [
    "import datetime as dt\n",
    "data[\"Date\"]=pd.to_datetime(data[\"Date\"])\n",
    "data['Date_year'] =data[\"Date\"].dt.year\n",
    "data['Date_month'] =data[\"Date\"].dt.month\n",
    "data['Date_day'] =data[\"Date\"].dt.day\n",
    "data['Date_hour'] =data[\"Date\"].dt.hour\n",
    "data['Date_minute'] =data[\"Date\"].dt.minute\n",
    "data['Date_seconde'] =data[\"Date\"].dt.second\n",
    "data.drop([\"Date\"], axis=1, inplace=True)"
   ]
  },
  {
   "cell_type": "code",
   "execution_count": 8,
   "id": "b9ac71ee",
   "metadata": {
    "execution": {
     "iopub.execute_input": "2022-02-09T11:48:43.046258Z",
     "iopub.status.busy": "2022-02-09T11:48:43.045350Z",
     "iopub.status.idle": "2022-02-09T11:48:43.049438Z",
     "shell.execute_reply": "2022-02-09T11:48:43.048803Z",
     "shell.execute_reply.started": "2022-02-09T10:13:45.176375Z"
    },
    "papermill": {
     "duration": 0.05929,
     "end_time": "2022-02-09T11:48:43.049578",
     "exception": false,
     "start_time": "2022-02-09T11:48:42.990288",
     "status": "completed"
    },
    "tags": []
   },
   "outputs": [
    {
     "data": {
      "text/html": [
       "<div>\n",
       "<style scoped>\n",
       "    .dataframe tbody tr th:only-of-type {\n",
       "        vertical-align: middle;\n",
       "    }\n",
       "\n",
       "    .dataframe tbody tr th {\n",
       "        vertical-align: top;\n",
       "    }\n",
       "\n",
       "    .dataframe thead th {\n",
       "        text-align: right;\n",
       "    }\n",
       "</style>\n",
       "<table border=\"1\" class=\"dataframe\">\n",
       "  <thead>\n",
       "    <tr style=\"text-align: right;\">\n",
       "      <th></th>\n",
       "      <th>SNo</th>\n",
       "      <th>Name</th>\n",
       "      <th>Symbol</th>\n",
       "      <th>High</th>\n",
       "      <th>Low</th>\n",
       "      <th>Open</th>\n",
       "      <th>Close</th>\n",
       "      <th>Volume</th>\n",
       "      <th>Marketcap</th>\n",
       "      <th>Date_year</th>\n",
       "      <th>Date_month</th>\n",
       "      <th>Date_day</th>\n",
       "      <th>Date_hour</th>\n",
       "      <th>Date_minute</th>\n",
       "      <th>Date_seconde</th>\n",
       "    </tr>\n",
       "  </thead>\n",
       "  <tbody>\n",
       "    <tr>\n",
       "      <th>0</th>\n",
       "      <td>1</td>\n",
       "      <td>Bitcoin</td>\n",
       "      <td>BTC</td>\n",
       "      <td>147.488007</td>\n",
       "      <td>134.000000</td>\n",
       "      <td>134.444000</td>\n",
       "      <td>144.539993</td>\n",
       "      <td>0.0</td>\n",
       "      <td>1.603769e+09</td>\n",
       "      <td>2013</td>\n",
       "      <td>4</td>\n",
       "      <td>29</td>\n",
       "      <td>23</td>\n",
       "      <td>59</td>\n",
       "      <td>59</td>\n",
       "    </tr>\n",
       "    <tr>\n",
       "      <th>1</th>\n",
       "      <td>2</td>\n",
       "      <td>Bitcoin</td>\n",
       "      <td>BTC</td>\n",
       "      <td>146.929993</td>\n",
       "      <td>134.050003</td>\n",
       "      <td>144.000000</td>\n",
       "      <td>139.000000</td>\n",
       "      <td>0.0</td>\n",
       "      <td>1.542813e+09</td>\n",
       "      <td>2013</td>\n",
       "      <td>4</td>\n",
       "      <td>30</td>\n",
       "      <td>23</td>\n",
       "      <td>59</td>\n",
       "      <td>59</td>\n",
       "    </tr>\n",
       "    <tr>\n",
       "      <th>2</th>\n",
       "      <td>3</td>\n",
       "      <td>Bitcoin</td>\n",
       "      <td>BTC</td>\n",
       "      <td>139.889999</td>\n",
       "      <td>107.720001</td>\n",
       "      <td>139.000000</td>\n",
       "      <td>116.989998</td>\n",
       "      <td>0.0</td>\n",
       "      <td>1.298955e+09</td>\n",
       "      <td>2013</td>\n",
       "      <td>5</td>\n",
       "      <td>1</td>\n",
       "      <td>23</td>\n",
       "      <td>59</td>\n",
       "      <td>59</td>\n",
       "    </tr>\n",
       "    <tr>\n",
       "      <th>3</th>\n",
       "      <td>4</td>\n",
       "      <td>Bitcoin</td>\n",
       "      <td>BTC</td>\n",
       "      <td>125.599998</td>\n",
       "      <td>92.281898</td>\n",
       "      <td>116.379997</td>\n",
       "      <td>105.209999</td>\n",
       "      <td>0.0</td>\n",
       "      <td>1.168517e+09</td>\n",
       "      <td>2013</td>\n",
       "      <td>5</td>\n",
       "      <td>2</td>\n",
       "      <td>23</td>\n",
       "      <td>59</td>\n",
       "      <td>59</td>\n",
       "    </tr>\n",
       "    <tr>\n",
       "      <th>4</th>\n",
       "      <td>5</td>\n",
       "      <td>Bitcoin</td>\n",
       "      <td>BTC</td>\n",
       "      <td>108.127998</td>\n",
       "      <td>79.099998</td>\n",
       "      <td>106.250000</td>\n",
       "      <td>97.750000</td>\n",
       "      <td>0.0</td>\n",
       "      <td>1.085995e+09</td>\n",
       "      <td>2013</td>\n",
       "      <td>5</td>\n",
       "      <td>3</td>\n",
       "      <td>23</td>\n",
       "      <td>59</td>\n",
       "      <td>59</td>\n",
       "    </tr>\n",
       "  </tbody>\n",
       "</table>\n",
       "</div>"
      ],
      "text/plain": [
       "   SNo     Name Symbol        High         Low        Open       Close  \\\n",
       "0    1  Bitcoin    BTC  147.488007  134.000000  134.444000  144.539993   \n",
       "1    2  Bitcoin    BTC  146.929993  134.050003  144.000000  139.000000   \n",
       "2    3  Bitcoin    BTC  139.889999  107.720001  139.000000  116.989998   \n",
       "3    4  Bitcoin    BTC  125.599998   92.281898  116.379997  105.209999   \n",
       "4    5  Bitcoin    BTC  108.127998   79.099998  106.250000   97.750000   \n",
       "\n",
       "   Volume     Marketcap  Date_year  Date_month  Date_day  Date_hour  \\\n",
       "0     0.0  1.603769e+09       2013           4        29         23   \n",
       "1     0.0  1.542813e+09       2013           4        30         23   \n",
       "2     0.0  1.298955e+09       2013           5         1         23   \n",
       "3     0.0  1.168517e+09       2013           5         2         23   \n",
       "4     0.0  1.085995e+09       2013           5         3         23   \n",
       "\n",
       "   Date_minute  Date_seconde  \n",
       "0           59            59  \n",
       "1           59            59  \n",
       "2           59            59  \n",
       "3           59            59  \n",
       "4           59            59  "
      ]
     },
     "execution_count": 8,
     "metadata": {},
     "output_type": "execute_result"
    }
   ],
   "source": [
    "data.head()"
   ]
  },
  {
   "cell_type": "code",
   "execution_count": 9,
   "id": "b4e49be8",
   "metadata": {
    "execution": {
     "iopub.execute_input": "2022-02-09T11:48:43.134168Z",
     "iopub.status.busy": "2022-02-09T11:48:43.133500Z",
     "iopub.status.idle": "2022-02-09T11:48:43.137062Z",
     "shell.execute_reply": "2022-02-09T11:48:43.136504Z",
     "shell.execute_reply.started": "2022-02-09T10:13:45.19317Z"
    },
    "papermill": {
     "duration": 0.048014,
     "end_time": "2022-02-09T11:48:43.137202",
     "exception": false,
     "start_time": "2022-02-09T11:48:43.089188",
     "status": "completed"
    },
    "tags": []
   },
   "outputs": [],
   "source": [
    "numeric=['High', 'Low', 'Open','Close','Volume', 'Marketcap', 'Date_year','Date_month','Date_day', 'Date_minute','Date_seconde']\n",
    "category=['Name','Symbol']"
   ]
  },
  {
   "cell_type": "code",
   "execution_count": 10,
   "id": "c5dfc9f7",
   "metadata": {
    "execution": {
     "iopub.execute_input": "2022-02-09T11:48:43.219459Z",
     "iopub.status.busy": "2022-02-09T11:48:43.218741Z",
     "iopub.status.idle": "2022-02-09T11:48:43.652488Z",
     "shell.execute_reply": "2022-02-09T11:48:43.653120Z",
     "shell.execute_reply.started": "2022-02-09T10:13:45.203274Z"
    },
    "papermill": {
     "duration": 0.475278,
     "end_time": "2022-02-09T11:48:43.653298",
     "exception": false,
     "start_time": "2022-02-09T11:48:43.178020",
     "status": "completed"
    },
    "tags": []
   },
   "outputs": [
    {
     "data": {
      "image/png": "[encoded data removed]",
      "text/plain": [
       "<Figure size 864x432 with 1 Axes>"
      ]
     },
     "metadata": {},
     "output_type": "display_data"
    },
    {
     "data": {
      "image/png": "[encoded data removed]",
      "text/plain": [
       "<Figure size 864x432 with 1 Axes>"
      ]
     },
     "metadata": {},
     "output_type": "display_data"
    }
   ],
   "source": [
    "stl.use('ggplot')\n",
    "\n",
    "for col in category:\n",
    "    plt.figure(figsize=(12,6))\n",
    "    sns.histplot(data[col], color=\"m\")\n",
    "    plt.show"
   ]
  },
  {
   "cell_type": "markdown",
   "id": "f5bf5f1f",
   "metadata": {
    "papermill": {
     "duration": 0.038564,
     "end_time": "2022-02-09T11:48:43.730925",
     "exception": false,
     "start_time": "2022-02-09T11:48:43.692361",
     "status": "completed"
    },
    "tags": []
   },
   "source": [
    "# Encoding"
   ]
  },
  {
   "cell_type": "code",
   "execution_count": 11,
   "id": "e68d948d",
   "metadata": {
    "execution": {
     "iopub.execute_input": "2022-02-09T11:48:43.813470Z",
     "iopub.status.busy": "2022-02-09T11:48:43.812466Z",
     "iopub.status.idle": "2022-02-09T11:48:44.173940Z",
     "shell.execute_reply": "2022-02-09T11:48:44.173303Z",
     "shell.execute_reply.started": "2022-02-09T10:13:45.60125Z"
    },
    "papermill": {
     "duration": 0.403477,
     "end_time": "2022-02-09T11:48:44.174088",
     "exception": false,
     "start_time": "2022-02-09T11:48:43.770611",
     "status": "completed"
    },
    "tags": []
   },
   "outputs": [],
   "source": [
    "import category_encoders as ce\n",
    "ordenc=ce.OrdinalEncoder(cols=['Name','Symbol'])\n",
    "encdata=ordenc.fit_transform(data)"
   ]
  },
  {
   "cell_type": "code",
   "execution_count": 12,
   "id": "71ff5165",
   "metadata": {
    "execution": {
     "iopub.execute_input": "2022-02-09T11:48:44.265802Z",
     "iopub.status.busy": "2022-02-09T11:48:44.264812Z",
     "iopub.status.idle": "2022-02-09T11:48:44.268207Z",
     "shell.execute_reply": "2022-02-09T11:48:44.268938Z",
     "shell.execute_reply.started": "2022-02-09T10:13:45.890927Z"
    },
    "papermill": {
     "duration": 0.056439,
     "end_time": "2022-02-09T11:48:44.269169",
     "exception": false,
     "start_time": "2022-02-09T11:48:44.212730",
     "status": "completed"
    },
    "tags": []
   },
   "outputs": [
    {
     "name": "stdout",
     "output_type": "stream",
     "text": [
      "<class 'pandas.core.frame.DataFrame'>\n",
      "RangeIndex: 2991 entries, 0 to 2990\n",
      "Data columns (total 15 columns):\n",
      " #   Column        Non-Null Count  Dtype  \n",
      "---  ------        --------------  -----  \n",
      " 0   SNo           2991 non-null   int64  \n",
      " 1   Name          2991 non-null   int64  \n",
      " 2   Symbol        2991 non-null   int64  \n",
      " 3   High          2991 non-null   float64\n",
      " 4   Low           2991 non-null   float64\n",
      " 5   Open          2991 non-null   float64\n",
      " 6   Close         2991 non-null   float64\n",
      " 7   Volume        2991 non-null   float64\n",
      " 8   Marketcap     2991 non-null   float64\n",
      " 9   Date_year     2991 non-null   int64  \n",
      " 10  Date_month    2991 non-null   int64  \n",
      " 11  Date_day      2991 non-null   int64  \n",
      " 12  Date_hour     2991 non-null   int64  \n",
      " 13  Date_minute   2991 non-null   int64  \n",
      " 14  Date_seconde  2991 non-null   int64  \n",
      "dtypes: float64(6), int64(9)\n",
      "memory usage: 350.6 KB\n"
     ]
    }
   ],
   "source": [
    "encdata.info()"
   ]
  },
  {
   "cell_type": "code",
   "execution_count": 13,
   "id": "58e2c8e5",
   "metadata": {
    "execution": {
     "iopub.execute_input": "2022-02-09T11:48:44.354824Z",
     "iopub.status.busy": "2022-02-09T11:48:44.353825Z",
     "iopub.status.idle": "2022-02-09T11:48:44.364272Z",
     "shell.execute_reply": "2022-02-09T11:48:44.364777Z",
     "shell.execute_reply.started": "2022-02-09T10:13:45.913472Z"
    },
    "papermill": {
     "duration": 0.055589,
     "end_time": "2022-02-09T11:48:44.364945",
     "exception": false,
     "start_time": "2022-02-09T11:48:44.309356",
     "status": "completed"
    },
    "tags": []
   },
   "outputs": [
    {
     "data": {
      "text/plain": [
       "0"
      ]
     },
     "execution_count": 13,
     "metadata": {},
     "output_type": "execute_result"
    }
   ],
   "source": [
    "data.duplicated().sum()"
   ]
  },
  {
   "cell_type": "code",
   "execution_count": 14,
   "id": "c8afa15c",
   "metadata": {
    "execution": {
     "iopub.execute_input": "2022-02-09T11:48:44.451721Z",
     "iopub.status.busy": "2022-02-09T11:48:44.451063Z",
     "iopub.status.idle": "2022-02-09T11:48:44.454071Z",
     "shell.execute_reply": "2022-02-09T11:48:44.453578Z",
     "shell.execute_reply.started": "2022-02-09T10:13:45.93218Z"
    },
    "papermill": {
     "duration": 0.049183,
     "end_time": "2022-02-09T11:48:44.454210",
     "exception": false,
     "start_time": "2022-02-09T11:48:44.405027",
     "status": "completed"
    },
    "tags": []
   },
   "outputs": [],
   "source": [
    "def outlier(col):\n",
    "    color = random.choice(['r', 'g', 'b'])\n",
    "    fig, ax = plt.subplots(1,2,figsize=(18,5))\n",
    "    sns.distplot(col, ax=ax[0], color=color)\n",
    "    sns.boxplot(col, ax=ax[1], color=color)\n",
    "    plt.suptitle('Distribution & Boxplot for Outlier Detection')\n",
    "    fig.show()\n",
    "    return None"
   ]
  },
  {
   "cell_type": "code",
   "execution_count": 15,
   "id": "3041408c",
   "metadata": {
    "execution": {
     "iopub.execute_input": "2022-02-09T11:48:44.544139Z",
     "iopub.status.busy": "2022-02-09T11:48:44.543121Z",
     "iopub.status.idle": "2022-02-09T11:48:45.239480Z",
     "shell.execute_reply": "2022-02-09T11:48:45.239991Z",
     "shell.execute_reply.started": "2022-02-09T10:13:45.939803Z"
    },
    "papermill": {
     "duration": 0.746535,
     "end_time": "2022-02-09T11:48:45.240166",
     "exception": false,
     "start_time": "2022-02-09T11:48:44.493631",
     "status": "completed"
    },
    "tags": []
   },
   "outputs": [
    {
     "data": {
      "image/png": "[encoded data removed]",
      "text/plain": [
       "<Figure size 1440x864 with 2 Axes>"
      ]
     },
     "metadata": {},
     "output_type": "display_data"
    }
   ],
   "source": [
    "plt.figure(figsize=(20,12))\n",
    "sns.heatmap(data[numeric].corr(), annot=True, annot_kws={\"fontsize\":12}, fmt=\".2f\", vmin=-1)\n",
    "plt.show()"
   ]
  },
  {
   "cell_type": "code",
   "execution_count": 16,
   "id": "525dacbf",
   "metadata": {
    "execution": {
     "iopub.execute_input": "2022-02-09T11:48:45.328413Z",
     "iopub.status.busy": "2022-02-09T11:48:45.327736Z",
     "iopub.status.idle": "2022-02-09T11:48:50.764064Z",
     "shell.execute_reply": "2022-02-09T11:48:50.763432Z",
     "shell.execute_reply.started": "2022-02-09T10:13:46.666791Z"
    },
    "papermill": {
     "duration": 5.482626,
     "end_time": "2022-02-09T11:48:50.764202",
     "exception": false,
     "start_time": "2022-02-09T11:48:45.281576",
     "status": "completed"
    },
    "tags": []
   },
   "outputs": [
    {
     "data": {
      "image/png": "[encoded data removed]",
      "text/plain": [
       "<Figure size 1296x360 with 2 Axes>"
      ]
     },
     "metadata": {},
     "output_type": "display_data"
    },
    {
     "data": {
      "image/png": "[encoded data removed]",
      "text/plain": [
       "<Figure size 1296x360 with 2 Axes>"
      ]
     },
     "metadata": {},
     "output_type": "display_data"
    },
    {
     "data": {
      "image/png": "[encoded data removed]",
      "text/plain": [
       "<Figure size 1296x360 with 2 Axes>"
      ]
     },
     "metadata": {},
     "output_type": "display_data"
    },
    {
     "data": {
      "image/png": "[encoded data removed]",
      "text/plain": [
       "<Figure size 1296x360 with 2 Axes>"
      ]
     },
     "metadata": {},
     "output_type": "display_data"
    },
    {
     "data": {
      "image/png": "[encoded data removed]",
      "text/plain": [
       "<Figure size 1296x360 with 2 Axes>"
      ]
     },
     "metadata": {},
     "output_type": "display_data"
    },
    {
     "data": {
      "image/png": "[encoded data removed]",
      "text/plain": [
       "<Figure size 1296x360 with 2 Axes>"
      ]
     },
     "metadata": {},
     "output_type": "display_data"
    },
    {
     "data": {
      "image/png": "[encoded data removed]",
      "text/plain": [
       "<Figure size 1296x360 with 2 Axes>"
      ]
     },
     "metadata": {},
     "output_type": "display_data"
    },
    {
     "data": {
      "image/png": "[encoded data removed]",
      "text/plain": [
       "<Figure size 1296x360 with 2 Axes>"
      ]
     },
     "metadata": {},
     "output_type": "display_data"
    },
    {
     "data": {
      "image/png": "[encoded data removed]",
      "text/plain": [
       "<Figure size 1296x360 with 2 Axes>"
      ]
     },
     "metadata": {},
     "output_type": "display_data"
    },
    {
     "data": {
      "image/png": "[encoded data removed]",
      "text/plain": [
       "<Figure size 1296x360 with 2 Axes>"
      ]
     },
     "metadata": {},
     "output_type": "display_data"
    },
    {
     "data": {
      "image/png": "[encoded data removed]",
      "text/plain": [
       "<Figure size 1296x360 with 2 Axes>"
      ]
     },
     "metadata": {},
     "output_type": "display_data"
    }
   ],
   "source": [
    "for i in numeric:\n",
    "    outlier(data[i])"
   ]
  },
  {
   "cell_type": "markdown",
   "id": "75c0ca9b",
   "metadata": {
    "papermill": {
     "duration": 0.054734,
     "end_time": "2022-02-09T11:48:50.873425",
     "exception": false,
     "start_time": "2022-02-09T11:48:50.818691",
     "status": "completed"
    },
    "tags": []
   },
   "source": [
    "# Scaling"
   ]
  },
  {
   "cell_type": "code",
   "execution_count": 17,
   "id": "ffba3b94",
   "metadata": {
    "execution": {
     "iopub.execute_input": "2022-02-09T11:48:50.993757Z",
     "iopub.status.busy": "2022-02-09T11:48:50.993009Z",
     "iopub.status.idle": "2022-02-09T11:48:51.001633Z",
     "shell.execute_reply": "2022-02-09T11:48:51.002194Z",
     "shell.execute_reply.started": "2022-02-09T10:13:51.558137Z"
    },
    "papermill": {
     "duration": 0.074147,
     "end_time": "2022-02-09T11:48:51.002393",
     "exception": false,
     "start_time": "2022-02-09T11:48:50.928246",
     "status": "completed"
    },
    "tags": []
   },
   "outputs": [
    {
     "data": {
      "text/html": [
       "<div>\n",
       "<style scoped>\n",
       "    .dataframe tbody tr th:only-of-type {\n",
       "        vertical-align: middle;\n",
       "    }\n",
       "\n",
       "    .dataframe tbody tr th {\n",
       "        vertical-align: top;\n",
       "    }\n",
       "\n",
       "    .dataframe thead th {\n",
       "        text-align: right;\n",
       "    }\n",
       "</style>\n",
       "<table border=\"1\" class=\"dataframe\">\n",
       "  <thead>\n",
       "    <tr style=\"text-align: right;\">\n",
       "      <th></th>\n",
       "      <th>SNo</th>\n",
       "      <th>Name</th>\n",
       "      <th>Symbol</th>\n",
       "      <th>High</th>\n",
       "      <th>Low</th>\n",
       "      <th>Open</th>\n",
       "      <th>Close</th>\n",
       "      <th>Volume</th>\n",
       "      <th>Marketcap</th>\n",
       "      <th>Date_year</th>\n",
       "      <th>Date_month</th>\n",
       "      <th>Date_day</th>\n",
       "      <th>Date_hour</th>\n",
       "      <th>Date_minute</th>\n",
       "      <th>Date_seconde</th>\n",
       "    </tr>\n",
       "  </thead>\n",
       "  <tbody>\n",
       "    <tr>\n",
       "      <th>0</th>\n",
       "      <td>1</td>\n",
       "      <td>1</td>\n",
       "      <td>1</td>\n",
       "      <td>147.488007</td>\n",
       "      <td>134.000000</td>\n",
       "      <td>134.444000</td>\n",
       "      <td>144.539993</td>\n",
       "      <td>0.0</td>\n",
       "      <td>1.603769e+09</td>\n",
       "      <td>2013</td>\n",
       "      <td>4</td>\n",
       "      <td>29</td>\n",
       "      <td>23</td>\n",
       "      <td>59</td>\n",
       "      <td>59</td>\n",
       "    </tr>\n",
       "    <tr>\n",
       "      <th>1</th>\n",
       "      <td>2</td>\n",
       "      <td>1</td>\n",
       "      <td>1</td>\n",
       "      <td>146.929993</td>\n",
       "      <td>134.050003</td>\n",
       "      <td>144.000000</td>\n",
       "      <td>139.000000</td>\n",
       "      <td>0.0</td>\n",
       "      <td>1.542813e+09</td>\n",
       "      <td>2013</td>\n",
       "      <td>4</td>\n",
       "      <td>30</td>\n",
       "      <td>23</td>\n",
       "      <td>59</td>\n",
       "      <td>59</td>\n",
       "    </tr>\n",
       "    <tr>\n",
       "      <th>2</th>\n",
       "      <td>3</td>\n",
       "      <td>1</td>\n",
       "      <td>1</td>\n",
       "      <td>139.889999</td>\n",
       "      <td>107.720001</td>\n",
       "      <td>139.000000</td>\n",
       "      <td>116.989998</td>\n",
       "      <td>0.0</td>\n",
       "      <td>1.298955e+09</td>\n",
       "      <td>2013</td>\n",
       "      <td>5</td>\n",
       "      <td>1</td>\n",
       "      <td>23</td>\n",
       "      <td>59</td>\n",
       "      <td>59</td>\n",
       "    </tr>\n",
       "    <tr>\n",
       "      <th>3</th>\n",
       "      <td>4</td>\n",
       "      <td>1</td>\n",
       "      <td>1</td>\n",
       "      <td>125.599998</td>\n",
       "      <td>92.281898</td>\n",
       "      <td>116.379997</td>\n",
       "      <td>105.209999</td>\n",
       "      <td>0.0</td>\n",
       "      <td>1.168517e+09</td>\n",
       "      <td>2013</td>\n",
       "      <td>5</td>\n",
       "      <td>2</td>\n",
       "      <td>23</td>\n",
       "      <td>59</td>\n",
       "      <td>59</td>\n",
       "    </tr>\n",
       "    <tr>\n",
       "      <th>4</th>\n",
       "      <td>5</td>\n",
       "      <td>1</td>\n",
       "      <td>1</td>\n",
       "      <td>108.127998</td>\n",
       "      <td>79.099998</td>\n",
       "      <td>106.250000</td>\n",
       "      <td>97.750000</td>\n",
       "      <td>0.0</td>\n",
       "      <td>1.085995e+09</td>\n",
       "      <td>2013</td>\n",
       "      <td>5</td>\n",
       "      <td>3</td>\n",
       "      <td>23</td>\n",
       "      <td>59</td>\n",
       "      <td>59</td>\n",
       "    </tr>\n",
       "  </tbody>\n",
       "</table>\n",
       "</div>"
      ],
      "text/plain": [
       "   SNo  Name  Symbol        High         Low        Open       Close  Volume  \\\n",
       "0    1     1       1  147.488007  134.000000  134.444000  144.539993     0.0   \n",
       "1    2     1       1  146.929993  134.050003  144.000000  139.000000     0.0   \n",
       "2    3     1       1  139.889999  107.720001  139.000000  116.989998     0.0   \n",
       "3    4     1       1  125.599998   92.281898  116.379997  105.209999     0.0   \n",
       "4    5     1       1  108.127998   79.099998  106.250000   97.750000     0.0   \n",
       "\n",
       "      Marketcap  Date_year  Date_month  Date_day  Date_hour  Date_minute  \\\n",
       "0  1.603769e+09       2013           4        29         23           59   \n",
       "1  1.542813e+09       2013           4        30         23           59   \n",
       "2  1.298955e+09       2013           5         1         23           59   \n",
       "3  1.168517e+09       2013           5         2         23           59   \n",
       "4  1.085995e+09       2013           5         3         23           59   \n",
       "\n",
       "   Date_seconde  \n",
       "0            59  \n",
       "1            59  \n",
       "2            59  \n",
       "3            59  \n",
       "4            59  "
      ]
     },
     "execution_count": 17,
     "metadata": {},
     "output_type": "execute_result"
    }
   ],
   "source": [
    "encdata.head()"
   ]
  },
  {
   "cell_type": "code",
   "execution_count": 18,
   "id": "15703bf6",
   "metadata": {
    "execution": {
     "iopub.execute_input": "2022-02-09T11:48:51.118252Z",
     "iopub.status.busy": "2022-02-09T11:48:51.117506Z",
     "iopub.status.idle": "2022-02-09T11:48:51.162833Z",
     "shell.execute_reply": "2022-02-09T11:48:51.162199Z",
     "shell.execute_reply.started": "2022-02-09T10:13:51.577197Z"
    },
    "papermill": {
     "duration": 0.103531,
     "end_time": "2022-02-09T11:48:51.162995",
     "exception": false,
     "start_time": "2022-02-09T11:48:51.059464",
     "status": "completed"
    },
    "tags": []
   },
   "outputs": [],
   "source": [
    "from sklearn.preprocessing import RobustScaler\n",
    "rs = RobustScaler()\n",
    "scaleddata = rs.fit_transform(encdata)\n",
    "encdata = pd.DataFrame(scaleddata, columns=encdata.columns)"
   ]
  },
  {
   "cell_type": "markdown",
   "id": "4f38cb09",
   "metadata": {
    "papermill": {
     "duration": 0.054586,
     "end_time": "2022-02-09T11:48:51.271782",
     "exception": false,
     "start_time": "2022-02-09T11:48:51.217196",
     "status": "completed"
    },
    "tags": []
   },
   "source": [
    "# Modeling"
   ]
  },
  {
   "cell_type": "code",
   "execution_count": 19,
   "id": "c98188a6",
   "metadata": {
    "execution": {
     "iopub.execute_input": "2022-02-09T11:48:51.388903Z",
     "iopub.status.busy": "2022-02-09T11:48:51.388192Z",
     "iopub.status.idle": "2022-02-09T11:48:51.447895Z",
     "shell.execute_reply": "2022-02-09T11:48:51.447151Z",
     "shell.execute_reply.started": "2022-02-09T10:13:51.615718Z"
    },
    "papermill": {
     "duration": 0.121305,
     "end_time": "2022-02-09T11:48:51.448049",
     "exception": false,
     "start_time": "2022-02-09T11:48:51.326744",
     "status": "completed"
    },
    "tags": []
   },
   "outputs": [],
   "source": [
    "x= encdata.drop(\"Marketcap\", axis=1)\n",
    "y=encdata[\"Marketcap\"]\n",
    "from sklearn.model_selection import train_test_split\n",
    "xtrain, xtest, ytrain, ytest = train_test_split(x, y, test_size=0.2, random_state=23)\n",
    "from sklearn.metrics import explained_variance_score, r2_score\n",
    "from sklearn.metrics import mean_absolute_error\n"
   ]
  },
  {
   "cell_type": "code",
   "execution_count": 20,
   "id": "ffbbcc58",
   "metadata": {
    "execution": {
     "iopub.execute_input": "2022-02-09T11:48:51.564105Z",
     "iopub.status.busy": "2022-02-09T11:48:51.563462Z",
     "iopub.status.idle": "2022-02-09T11:48:51.780969Z",
     "shell.execute_reply": "2022-02-09T11:48:51.780405Z",
     "shell.execute_reply.started": "2022-02-09T10:13:51.66867Z"
    },
    "papermill": {
     "duration": 0.277003,
     "end_time": "2022-02-09T11:48:51.781124",
     "exception": false,
     "start_time": "2022-02-09T11:48:51.504121",
     "status": "completed"
    },
    "tags": []
   },
   "outputs": [],
   "source": [
    "from sklearn.tree import DecisionTreeRegressor\n",
    "tree = DecisionTreeRegressor(random_state=1)\n",
    "tree.fit(xtrain, ytrain)\n",
    "ypredtest = tree.predict(xtest)"
   ]
  },
  {
   "cell_type": "code",
   "execution_count": 21,
   "id": "03d20cd7",
   "metadata": {
    "execution": {
     "iopub.execute_input": "2022-02-09T11:48:51.897915Z",
     "iopub.status.busy": "2022-02-09T11:48:51.896100Z",
     "iopub.status.idle": "2022-02-09T11:48:51.904083Z",
     "shell.execute_reply": "2022-02-09T11:48:51.903531Z",
     "shell.execute_reply.started": "2022-02-09T10:13:51.856626Z"
    },
    "papermill": {
     "duration": 0.067743,
     "end_time": "2022-02-09T11:48:51.904224",
     "exception": false,
     "start_time": "2022-02-09T11:48:51.836481",
     "status": "completed"
    },
    "tags": []
   },
   "outputs": [
    {
     "data": {
      "text/plain": [
       "0.00801930380990681"
      ]
     },
     "execution_count": 21,
     "metadata": {},
     "output_type": "execute_result"
    }
   ],
   "source": [
    "mean_absolute_error(ytest, ypredtest)"
   ]
  },
  {
   "cell_type": "markdown",
   "id": "d68928be",
   "metadata": {
    "papermill": {
     "duration": 0.055155,
     "end_time": "2022-02-09T11:48:52.014680",
     "exception": false,
     "start_time": "2022-02-09T11:48:51.959525",
     "status": "completed"
    },
    "tags": []
   },
   "source": [
    "# GridSearchCV "
   ]
  },
  {
   "cell_type": "markdown",
   "id": "50c1e4cf",
   "metadata": {
    "papermill": {
     "duration": 0.056453,
     "end_time": "2022-02-09T11:48:52.129451",
     "exception": false,
     "start_time": "2022-02-09T11:48:52.072998",
     "status": "completed"
    },
    "tags": []
   },
   "source": [
    "![](https://ichi.pro/assets/images/max/724/1*E3FOlkD7LyeTbKMoTDnwFQ.png)"
   ]
  },
  {
   "cell_type": "code",
   "execution_count": 22,
   "id": "4a971d1f",
   "metadata": {
    "execution": {
     "iopub.execute_input": "2022-02-09T11:48:52.243048Z",
     "iopub.status.busy": "2022-02-09T11:48:52.242058Z",
     "iopub.status.idle": "2022-02-09T11:48:59.794606Z",
     "shell.execute_reply": "2022-02-09T11:48:59.794029Z",
     "shell.execute_reply.started": "2022-02-09T10:13:51.863984Z"
    },
    "papermill": {
     "duration": 7.610802,
     "end_time": "2022-02-09T11:48:59.794745",
     "exception": false,
     "start_time": "2022-02-09T11:48:52.183943",
     "status": "completed"
    },
    "tags": []
   },
   "outputs": [
    {
     "data": {
      "text/plain": [
       "GridSearchCV(cv=8, estimator=DecisionTreeRegressor(random_state=1), n_jobs=-1,\n",
       "             param_grid={'max_depth': (5, 8, 15, 30, 35, 50),\n",
       "                         'max_features': (0.2, 0.4, 0.6, 0.8),\n",
       "                         'min_samples_split': (2, 5, 8, 10, 20)},\n",
       "             scoring='neg_mean_absolute_error')"
      ]
     },
     "execution_count": 22,
     "metadata": {},
     "output_type": "execute_result"
    }
   ],
   "source": [
    "from sklearn.model_selection import GridSearchCV\n",
    "hyperparameters = {\"max_depth\":(5, 8, 15, 30, 35, 50), \"max_features\":(0.2, 0.4, 0.6, 0.8), \"min_samples_split\":(2, 5, 8, 10, 20)}\n",
    "Grid= GridSearchCV(estimator=tree, param_grid=hyperparameters, cv=8, scoring=\"neg_mean_absolute_error\", n_jobs=-1)\n",
    "Grid.fit(xtrain, ytrain)\n",
    "\n"
   ]
  },
  {
   "cell_type": "code",
   "execution_count": 23,
   "id": "064ff9c9",
   "metadata": {
    "execution": {
     "iopub.execute_input": "2022-02-09T11:48:59.913674Z",
     "iopub.status.busy": "2022-02-09T11:48:59.912840Z",
     "iopub.status.idle": "2022-02-09T11:48:59.916040Z",
     "shell.execute_reply": "2022-02-09T11:48:59.916543Z",
     "shell.execute_reply.started": "2022-02-09T10:13:58.446255Z"
    },
    "papermill": {
     "duration": 0.06709,
     "end_time": "2022-02-09T11:48:59.916729",
     "exception": false,
     "start_time": "2022-02-09T11:48:59.849639",
     "status": "completed"
    },
    "tags": []
   },
   "outputs": [
    {
     "data": {
      "text/plain": [
       "DecisionTreeRegressor(max_depth=15, max_features=0.8, random_state=1)"
      ]
     },
     "execution_count": 23,
     "metadata": {},
     "output_type": "execute_result"
    }
   ],
   "source": [
    "Grid.best_estimator_\n"
   ]
  },
  {
   "cell_type": "code",
   "execution_count": 24,
   "id": "a75eac34",
   "metadata": {
    "execution": {
     "iopub.execute_input": "2022-02-09T11:49:00.032932Z",
     "iopub.status.busy": "2022-02-09T11:49:00.030210Z",
     "iopub.status.idle": "2022-02-09T11:49:00.035999Z",
     "shell.execute_reply": "2022-02-09T11:49:00.036499Z",
     "shell.execute_reply.started": "2022-02-09T10:13:58.454009Z"
    },
    "papermill": {
     "duration": 0.06457,
     "end_time": "2022-02-09T11:49:00.036671",
     "exception": false,
     "start_time": "2022-02-09T11:48:59.972101",
     "status": "completed"
    },
    "tags": []
   },
   "outputs": [
    {
     "data": {
      "text/plain": [
       "{'max_depth': 15, 'max_features': 0.8, 'min_samples_split': 2}"
      ]
     },
     "execution_count": 24,
     "metadata": {},
     "output_type": "execute_result"
    }
   ],
   "source": [
    "Grid.best_params_"
   ]
  },
  {
   "cell_type": "code",
   "execution_count": 25,
   "id": "0d4caec7",
   "metadata": {
    "execution": {
     "iopub.execute_input": "2022-02-09T11:49:00.153990Z",
     "iopub.status.busy": "2022-02-09T11:49:00.152998Z",
     "iopub.status.idle": "2022-02-09T11:49:00.177585Z",
     "shell.execute_reply": "2022-02-09T11:49:00.178091Z",
     "shell.execute_reply.started": "2022-02-09T10:13:58.465879Z"
    },
    "papermill": {
     "duration": 0.083845,
     "end_time": "2022-02-09T11:49:00.178330",
     "exception": false,
     "start_time": "2022-02-09T11:49:00.094485",
     "status": "completed"
    },
    "tags": []
   },
   "outputs": [],
   "source": [
    "tree = DecisionTreeRegressor(max_depth=15,max_features=0.8, min_samples_split= 2, random_state=1)\n",
    "tree.fit(xtrain, ytrain)\n",
    "ypredd = tree.predict(xtest)"
   ]
  },
  {
   "cell_type": "code",
   "execution_count": 26,
   "id": "1a099fbe",
   "metadata": {
    "execution": {
     "iopub.execute_input": "2022-02-09T11:49:00.294761Z",
     "iopub.status.busy": "2022-02-09T11:49:00.294086Z",
     "iopub.status.idle": "2022-02-09T11:49:00.300977Z",
     "shell.execute_reply": "2022-02-09T11:49:00.300458Z",
     "shell.execute_reply.started": "2022-02-09T10:13:58.497244Z"
    },
    "papermill": {
     "duration": 0.067019,
     "end_time": "2022-02-09T11:49:00.301125",
     "exception": false,
     "start_time": "2022-02-09T11:49:00.234106",
     "status": "completed"
    },
    "tags": []
   },
   "outputs": [
    {
     "data": {
      "text/plain": [
       "0.007532413669230767"
      ]
     },
     "execution_count": 26,
     "metadata": {},
     "output_type": "execute_result"
    }
   ],
   "source": [
    "mean_absolute_error(ytest, ypredd)"
   ]
  },
  {
   "cell_type": "markdown",
   "id": "aea3f814",
   "metadata": {
    "papermill": {
     "duration": 0.055886,
     "end_time": "2022-02-09T11:49:00.413537",
     "exception": false,
     "start_time": "2022-02-09T11:49:00.357651",
     "status": "completed"
    },
    "tags": []
   },
   "source": [
    "we notice a difference in the result "
   ]
  },
  {
   "cell_type": "code",
   "execution_count": 27,
   "id": "14e72792",
   "metadata": {
    "execution": {
     "iopub.execute_input": "2022-02-09T11:49:00.545900Z",
     "iopub.status.busy": "2022-02-09T11:49:00.532445Z",
     "iopub.status.idle": "2022-02-09T11:49:00.567730Z",
     "shell.execute_reply": "2022-02-09T11:49:00.567028Z",
     "shell.execute_reply.started": "2022-02-09T10:13:58.504596Z"
    },
    "papermill": {
     "duration": 0.097978,
     "end_time": "2022-02-09T11:49:00.567891",
     "exception": false,
     "start_time": "2022-02-09T11:49:00.469913",
     "status": "completed"
    },
    "tags": []
   },
   "outputs": [
    {
     "data": {
      "text/html": [
       "<div>\n",
       "<style scoped>\n",
       "    .dataframe tbody tr th:only-of-type {\n",
       "        vertical-align: middle;\n",
       "    }\n",
       "\n",
       "    .dataframe tbody tr th {\n",
       "        vertical-align: top;\n",
       "    }\n",
       "\n",
       "    .dataframe thead th {\n",
       "        text-align: right;\n",
       "    }\n",
       "</style>\n",
       "<table border=\"1\" class=\"dataframe\">\n",
       "  <thead>\n",
       "    <tr style=\"text-align: right;\">\n",
       "      <th></th>\n",
       "      <th>mean_fit_time</th>\n",
       "      <th>std_fit_time</th>\n",
       "      <th>mean_score_time</th>\n",
       "      <th>std_score_time</th>\n",
       "      <th>param_max_depth</th>\n",
       "      <th>param_max_features</th>\n",
       "      <th>param_min_samples_split</th>\n",
       "      <th>params</th>\n",
       "      <th>split0_test_score</th>\n",
       "      <th>split1_test_score</th>\n",
       "      <th>split2_test_score</th>\n",
       "      <th>split3_test_score</th>\n",
       "      <th>split4_test_score</th>\n",
       "      <th>split5_test_score</th>\n",
       "      <th>split6_test_score</th>\n",
       "      <th>split7_test_score</th>\n",
       "      <th>mean_test_score</th>\n",
       "      <th>std_test_score</th>\n",
       "      <th>rank_test_score</th>\n",
       "    </tr>\n",
       "  </thead>\n",
       "  <tbody>\n",
       "    <tr>\n",
       "      <th>0</th>\n",
       "      <td>0.006626</td>\n",
       "      <td>0.000498</td>\n",
       "      <td>0.002804</td>\n",
       "      <td>0.000362</td>\n",
       "      <td>5</td>\n",
       "      <td>0.2</td>\n",
       "      <td>2</td>\n",
       "      <td>{'max_depth': 5, 'max_features': 0.2, 'min_sam...</td>\n",
       "      <td>-0.098855</td>\n",
       "      <td>-0.109879</td>\n",
       "      <td>-0.099298</td>\n",
       "      <td>-0.091589</td>\n",
       "      <td>-0.087027</td>\n",
       "      <td>-0.107613</td>\n",
       "      <td>-0.093376</td>\n",
       "      <td>-0.069309</td>\n",
       "      <td>-0.094618</td>\n",
       "      <td>0.011992</td>\n",
       "      <td>116</td>\n",
       "    </tr>\n",
       "    <tr>\n",
       "      <th>1</th>\n",
       "      <td>0.005797</td>\n",
       "      <td>0.000283</td>\n",
       "      <td>0.002648</td>\n",
       "      <td>0.000129</td>\n",
       "      <td>5</td>\n",
       "      <td>0.2</td>\n",
       "      <td>5</td>\n",
       "      <td>{'max_depth': 5, 'max_features': 0.2, 'min_sam...</td>\n",
       "      <td>-0.098855</td>\n",
       "      <td>-0.109879</td>\n",
       "      <td>-0.099298</td>\n",
       "      <td>-0.139619</td>\n",
       "      <td>-0.087027</td>\n",
       "      <td>-0.107613</td>\n",
       "      <td>-0.131555</td>\n",
       "      <td>-0.069309</td>\n",
       "      <td>-0.105394</td>\n",
       "      <td>0.021214</td>\n",
       "      <td>119</td>\n",
       "    </tr>\n",
       "    <tr>\n",
       "      <th>2</th>\n",
       "      <td>0.005717</td>\n",
       "      <td>0.000508</td>\n",
       "      <td>0.002750</td>\n",
       "      <td>0.000295</td>\n",
       "      <td>5</td>\n",
       "      <td>0.2</td>\n",
       "      <td>8</td>\n",
       "      <td>{'max_depth': 5, 'max_features': 0.2, 'min_sam...</td>\n",
       "      <td>-0.098855</td>\n",
       "      <td>-0.109879</td>\n",
       "      <td>-0.099298</td>\n",
       "      <td>-0.105227</td>\n",
       "      <td>-0.087027</td>\n",
       "      <td>-0.107613</td>\n",
       "      <td>-0.096283</td>\n",
       "      <td>-0.134784</td>\n",
       "      <td>-0.104871</td>\n",
       "      <td>0.013167</td>\n",
       "      <td>118</td>\n",
       "    </tr>\n",
       "    <tr>\n",
       "      <th>3</th>\n",
       "      <td>0.005977</td>\n",
       "      <td>0.000400</td>\n",
       "      <td>0.002788</td>\n",
       "      <td>0.000145</td>\n",
       "      <td>5</td>\n",
       "      <td>0.2</td>\n",
       "      <td>10</td>\n",
       "      <td>{'max_depth': 5, 'max_features': 0.2, 'min_sam...</td>\n",
       "      <td>-0.098855</td>\n",
       "      <td>-0.109879</td>\n",
       "      <td>-0.099298</td>\n",
       "      <td>-0.105227</td>\n",
       "      <td>-0.089466</td>\n",
       "      <td>-0.122766</td>\n",
       "      <td>-0.105949</td>\n",
       "      <td>-0.134784</td>\n",
       "      <td>-0.108278</td>\n",
       "      <td>0.013477</td>\n",
       "      <td>120</td>\n",
       "    </tr>\n",
       "    <tr>\n",
       "      <th>4</th>\n",
       "      <td>0.005515</td>\n",
       "      <td>0.000595</td>\n",
       "      <td>0.002413</td>\n",
       "      <td>0.000444</td>\n",
       "      <td>5</td>\n",
       "      <td>0.2</td>\n",
       "      <td>20</td>\n",
       "      <td>{'max_depth': 5, 'max_features': 0.2, 'min_sam...</td>\n",
       "      <td>-0.107921</td>\n",
       "      <td>-0.145479</td>\n",
       "      <td>-0.115927</td>\n",
       "      <td>-0.086787</td>\n",
       "      <td>-0.085629</td>\n",
       "      <td>-0.123682</td>\n",
       "      <td>-0.099699</td>\n",
       "      <td>-0.069190</td>\n",
       "      <td>-0.104289</td>\n",
       "      <td>0.022718</td>\n",
       "      <td>117</td>\n",
       "    </tr>\n",
       "    <tr>\n",
       "      <th>...</th>\n",
       "      <td>...</td>\n",
       "      <td>...</td>\n",
       "      <td>...</td>\n",
       "      <td>...</td>\n",
       "      <td>...</td>\n",
       "      <td>...</td>\n",
       "      <td>...</td>\n",
       "      <td>...</td>\n",
       "      <td>...</td>\n",
       "      <td>...</td>\n",
       "      <td>...</td>\n",
       "      <td>...</td>\n",
       "      <td>...</td>\n",
       "      <td>...</td>\n",
       "      <td>...</td>\n",
       "      <td>...</td>\n",
       "      <td>...</td>\n",
       "      <td>...</td>\n",
       "      <td>...</td>\n",
       "    </tr>\n",
       "    <tr>\n",
       "      <th>115</th>\n",
       "      <td>0.024704</td>\n",
       "      <td>0.000417</td>\n",
       "      <td>0.003151</td>\n",
       "      <td>0.000222</td>\n",
       "      <td>50</td>\n",
       "      <td>0.8</td>\n",
       "      <td>2</td>\n",
       "      <td>{'max_depth': 50, 'max_features': 0.8, 'min_sa...</td>\n",
       "      <td>-0.008129</td>\n",
       "      <td>-0.013081</td>\n",
       "      <td>-0.009316</td>\n",
       "      <td>-0.012259</td>\n",
       "      <td>-0.008307</td>\n",
       "      <td>-0.012845</td>\n",
       "      <td>-0.013652</td>\n",
       "      <td>-0.009314</td>\n",
       "      <td>-0.010863</td>\n",
       "      <td>0.002161</td>\n",
       "      <td>2</td>\n",
       "    </tr>\n",
       "    <tr>\n",
       "      <th>116</th>\n",
       "      <td>0.023076</td>\n",
       "      <td>0.001739</td>\n",
       "      <td>0.003050</td>\n",
       "      <td>0.000142</td>\n",
       "      <td>50</td>\n",
       "      <td>0.8</td>\n",
       "      <td>5</td>\n",
       "      <td>{'max_depth': 50, 'max_features': 0.8, 'min_sa...</td>\n",
       "      <td>-0.013048</td>\n",
       "      <td>-0.011970</td>\n",
       "      <td>-0.008558</td>\n",
       "      <td>-0.010365</td>\n",
       "      <td>-0.008310</td>\n",
       "      <td>-0.011726</td>\n",
       "      <td>-0.015960</td>\n",
       "      <td>-0.010532</td>\n",
       "      <td>-0.011309</td>\n",
       "      <td>0.002327</td>\n",
       "      <td>6</td>\n",
       "    </tr>\n",
       "    <tr>\n",
       "      <th>117</th>\n",
       "      <td>0.020864</td>\n",
       "      <td>0.000492</td>\n",
       "      <td>0.002991</td>\n",
       "      <td>0.000127</td>\n",
       "      <td>50</td>\n",
       "      <td>0.8</td>\n",
       "      <td>8</td>\n",
       "      <td>{'max_depth': 50, 'max_features': 0.8, 'min_sa...</td>\n",
       "      <td>-0.012125</td>\n",
       "      <td>-0.013165</td>\n",
       "      <td>-0.009780</td>\n",
       "      <td>-0.012536</td>\n",
       "      <td>-0.010231</td>\n",
       "      <td>-0.012565</td>\n",
       "      <td>-0.013355</td>\n",
       "      <td>-0.011162</td>\n",
       "      <td>-0.011865</td>\n",
       "      <td>0.001247</td>\n",
       "      <td>10</td>\n",
       "    </tr>\n",
       "    <tr>\n",
       "      <th>118</th>\n",
       "      <td>0.019531</td>\n",
       "      <td>0.000859</td>\n",
       "      <td>0.003037</td>\n",
       "      <td>0.000243</td>\n",
       "      <td>50</td>\n",
       "      <td>0.8</td>\n",
       "      <td>10</td>\n",
       "      <td>{'max_depth': 50, 'max_features': 0.8, 'min_sa...</td>\n",
       "      <td>-0.014975</td>\n",
       "      <td>-0.014917</td>\n",
       "      <td>-0.010004</td>\n",
       "      <td>-0.014260</td>\n",
       "      <td>-0.010749</td>\n",
       "      <td>-0.012314</td>\n",
       "      <td>-0.016550</td>\n",
       "      <td>-0.014354</td>\n",
       "      <td>-0.013515</td>\n",
       "      <td>0.002121</td>\n",
       "      <td>18</td>\n",
       "    </tr>\n",
       "    <tr>\n",
       "      <th>119</th>\n",
       "      <td>0.017706</td>\n",
       "      <td>0.000842</td>\n",
       "      <td>0.002784</td>\n",
       "      <td>0.000335</td>\n",
       "      <td>50</td>\n",
       "      <td>0.8</td>\n",
       "      <td>20</td>\n",
       "      <td>{'max_depth': 50, 'max_features': 0.8, 'min_sa...</td>\n",
       "      <td>-0.015667</td>\n",
       "      <td>-0.019606</td>\n",
       "      <td>-0.018321</td>\n",
       "      <td>-0.018608</td>\n",
       "      <td>-0.018509</td>\n",
       "      <td>-0.018551</td>\n",
       "      <td>-0.021646</td>\n",
       "      <td>-0.016047</td>\n",
       "      <td>-0.018369</td>\n",
       "      <td>0.001770</td>\n",
       "      <td>58</td>\n",
       "    </tr>\n",
       "  </tbody>\n",
       "</table>\n",
       "<p>120 rows × 19 columns</p>\n",
       "</div>"
      ],
      "text/plain": [
       "     mean_fit_time  std_fit_time  mean_score_time  std_score_time  \\\n",
       "0         0.006626      0.000498         0.002804        0.000362   \n",
       "1         0.005797      0.000283         0.002648        0.000129   \n",
       "2         0.005717      0.000508         0.002750        0.000295   \n",
       "3         0.005977      0.000400         0.002788        0.000145   \n",
       "4         0.005515      0.000595         0.002413        0.000444   \n",
       "..             ...           ...              ...             ...   \n",
       "115       0.024704      0.000417         0.003151        0.000222   \n",
       "116       0.023076      0.001739         0.003050        0.000142   \n",
       "117       0.020864      0.000492         0.002991        0.000127   \n",
       "118       0.019531      0.000859         0.003037        0.000243   \n",
       "119       0.017706      0.000842         0.002784        0.000335   \n",
       "\n",
       "    param_max_depth param_max_features param_min_samples_split  \\\n",
       "0                 5                0.2                       2   \n",
       "1                 5                0.2                       5   \n",
       "2                 5                0.2                       8   \n",
       "3                 5                0.2                      10   \n",
       "4                 5                0.2                      20   \n",
       "..              ...                ...                     ...   \n",
       "115              50                0.8                       2   \n",
       "116              50                0.8                       5   \n",
       "117              50                0.8                       8   \n",
       "118              50                0.8                      10   \n",
       "119              50                0.8                      20   \n",
       "\n",
       "                                                params  split0_test_score  \\\n",
       "0    {'max_depth': 5, 'max_features': 0.2, 'min_sam...          -0.098855   \n",
       "1    {'max_depth': 5, 'max_features': 0.2, 'min_sam...          -0.098855   \n",
       "2    {'max_depth': 5, 'max_features': 0.2, 'min_sam...          -0.098855   \n",
       "3    {'max_depth': 5, 'max_features': 0.2, 'min_sam...          -0.098855   \n",
       "4    {'max_depth': 5, 'max_features': 0.2, 'min_sam...          -0.107921   \n",
       "..                                                 ...                ...   \n",
       "115  {'max_depth': 50, 'max_features': 0.8, 'min_sa...          -0.008129   \n",
       "116  {'max_depth': 50, 'max_features': 0.8, 'min_sa...          -0.013048   \n",
       "117  {'max_depth': 50, 'max_features': 0.8, 'min_sa...          -0.012125   \n",
       "118  {'max_depth': 50, 'max_features': 0.8, 'min_sa...          -0.014975   \n",
       "119  {'max_depth': 50, 'max_features': 0.8, 'min_sa...          -0.015667   \n",
       "\n",
       "     split1_test_score  split2_test_score  split3_test_score  \\\n",
       "0            -0.109879          -0.099298          -0.091589   \n",
       "1            -0.109879          -0.099298          -0.139619   \n",
       "2            -0.109879          -0.099298          -0.105227   \n",
       "3            -0.109879          -0.099298          -0.105227   \n",
       "4            -0.145479          -0.115927          -0.086787   \n",
       "..                 ...                ...                ...   \n",
       "115          -0.013081          -0.009316          -0.012259   \n",
       "116          -0.011970          -0.008558          -0.010365   \n",
       "117          -0.013165          -0.009780          -0.012536   \n",
       "118          -0.014917          -0.010004          -0.014260   \n",
       "119          -0.019606          -0.018321          -0.018608   \n",
       "\n",
       "     split4_test_score  split5_test_score  split6_test_score  \\\n",
       "0            -0.087027          -0.107613          -0.093376   \n",
       "1            -0.087027          -0.107613          -0.131555   \n",
       "2            -0.087027          -0.107613          -0.096283   \n",
       "3            -0.089466          -0.122766          -0.105949   \n",
       "4            -0.085629          -0.123682          -0.099699   \n",
       "..                 ...                ...                ...   \n",
       "115          -0.008307          -0.012845          -0.013652   \n",
       "116          -0.008310          -0.011726          -0.015960   \n",
       "117          -0.010231          -0.012565          -0.013355   \n",
       "118          -0.010749          -0.012314          -0.016550   \n",
       "119          -0.018509          -0.018551          -0.021646   \n",
       "\n",
       "     split7_test_score  mean_test_score  std_test_score  rank_test_score  \n",
       "0            -0.069309        -0.094618        0.011992              116  \n",
       "1            -0.069309        -0.105394        0.021214              119  \n",
       "2            -0.134784        -0.104871        0.013167              118  \n",
       "3            -0.134784        -0.108278        0.013477              120  \n",
       "4            -0.069190        -0.104289        0.022718              117  \n",
       "..                 ...              ...             ...              ...  \n",
       "115          -0.009314        -0.010863        0.002161                2  \n",
       "116          -0.010532        -0.011309        0.002327                6  \n",
       "117          -0.011162        -0.011865        0.001247               10  \n",
       "118          -0.014354        -0.013515        0.002121               18  \n",
       "119          -0.016047        -0.018369        0.001770               58  \n",
       "\n",
       "[120 rows x 19 columns]"
      ]
     },
     "execution_count": 27,
     "metadata": {},
     "output_type": "execute_result"
    }
   ],
   "source": [
    "pd.DataFrame(Grid.cv_results_)"
   ]
  },
  {
   "cell_type": "markdown",
   "id": "fe7debcc",
   "metadata": {
    "papermill": {
     "duration": 0.058825,
     "end_time": "2022-02-09T11:49:00.685417",
     "exception": false,
     "start_time": "2022-02-09T11:49:00.626592",
     "status": "completed"
    },
    "tags": []
   },
   "source": [
    "# Cross Validation"
   ]
  },
  {
   "cell_type": "code",
   "execution_count": 28,
   "id": "f78e9f23",
   "metadata": {
    "execution": {
     "iopub.execute_input": "2022-02-09T11:49:00.807694Z",
     "iopub.status.busy": "2022-02-09T11:49:00.806942Z",
     "iopub.status.idle": "2022-02-09T11:49:00.964772Z",
     "shell.execute_reply": "2022-02-09T11:49:00.963989Z",
     "shell.execute_reply.started": "2022-02-09T10:13:58.544876Z"
    },
    "papermill": {
     "duration": 0.220814,
     "end_time": "2022-02-09T11:49:00.964951",
     "exception": false,
     "start_time": "2022-02-09T11:49:00.744137",
     "status": "completed"
    },
    "tags": []
   },
   "outputs": [
    {
     "data": {
      "text/plain": [
       "array([0.99969001, 0.99972275, 0.99956347, 0.99945797, 0.99968468,\n",
       "       0.99962025, 0.99974395, 0.99948751])"
      ]
     },
     "execution_count": 28,
     "metadata": {},
     "output_type": "execute_result"
    }
   ],
   "source": [
    "from sklearn.model_selection import cross_val_score\n",
    "cvscore = cross_val_score(tree, xtrain, ytrain, cv=8)\n",
    "cvscore"
   ]
  },
  {
   "cell_type": "code",
   "execution_count": 29,
   "id": "6c88b848",
   "metadata": {
    "execution": {
     "iopub.execute_input": "2022-02-09T11:49:01.089460Z",
     "iopub.status.busy": "2022-02-09T11:49:01.088802Z",
     "iopub.status.idle": "2022-02-09T11:49:01.092284Z",
     "shell.execute_reply": "2022-02-09T11:49:01.091713Z",
     "shell.execute_reply.started": "2022-02-09T10:13:58.697994Z"
    },
    "papermill": {
     "duration": 0.068082,
     "end_time": "2022-02-09T11:49:01.092438",
     "exception": false,
     "start_time": "2022-02-09T11:49:01.024356",
     "status": "completed"
    },
    "tags": []
   },
   "outputs": [
    {
     "data": {
      "text/plain": [
       "0.9996213247468922"
      ]
     },
     "execution_count": 29,
     "metadata": {},
     "output_type": "execute_result"
    }
   ],
   "source": [
    "cvscore.mean()\n"
   ]
  },
  {
   "cell_type": "markdown",
   "id": "d1755e2e",
   "metadata": {
    "papermill": {
     "duration": 0.059204,
     "end_time": "2022-02-09T11:49:01.209931",
     "exception": false,
     "start_time": "2022-02-09T11:49:01.150727",
     "status": "completed"
    },
    "tags": []
   },
   "source": [
    "# ShuffleSplit"
   ]
  },
  {
   "cell_type": "markdown",
   "id": "922c3b8c",
   "metadata": {
    "papermill": {
     "duration": 0.075077,
     "end_time": "2022-02-09T11:49:01.347355",
     "exception": false,
     "start_time": "2022-02-09T11:49:01.272278",
     "status": "completed"
    },
    "tags": []
   },
   "source": [
    "![](https://amueller.github.io/aml/_images/shuffle_split_cv.png)"
   ]
  },
  {
   "cell_type": "code",
   "execution_count": 30,
   "id": "e85e11c8",
   "metadata": {
    "execution": {
     "iopub.execute_input": "2022-02-09T11:49:01.488152Z",
     "iopub.status.busy": "2022-02-09T11:49:01.487192Z",
     "iopub.status.idle": "2022-02-09T11:49:01.600039Z",
     "shell.execute_reply": "2022-02-09T11:49:01.599495Z",
     "shell.execute_reply.started": "2022-02-09T10:27:02.569705Z"
    },
    "papermill": {
     "duration": 0.186873,
     "end_time": "2022-02-09T11:49:01.600200",
     "exception": false,
     "start_time": "2022-02-09T11:49:01.413327",
     "status": "completed"
    },
    "tags": []
   },
   "outputs": [],
   "source": [
    "from sklearn.model_selection import ShuffleSplit\n",
    "cv=ShuffleSplit(6,test_size=0.3)\n",
    "cvs=cross_val_score(tree,x,y, cv=cv)"
   ]
  },
  {
   "cell_type": "code",
   "execution_count": 31,
   "id": "b7d8a372",
   "metadata": {
    "execution": {
     "iopub.execute_input": "2022-02-09T11:49:01.724483Z",
     "iopub.status.busy": "2022-02-09T11:49:01.723814Z",
     "iopub.status.idle": "2022-02-09T11:49:01.728080Z",
     "shell.execute_reply": "2022-02-09T11:49:01.727447Z",
     "shell.execute_reply.started": "2022-02-09T10:27:09.954569Z"
    },
    "papermill": {
     "duration": 0.068103,
     "end_time": "2022-02-09T11:49:01.728232",
     "exception": false,
     "start_time": "2022-02-09T11:49:01.660129",
     "status": "completed"
    },
    "tags": []
   },
   "outputs": [
    {
     "data": {
      "text/plain": [
       "0.9994551358583769"
      ]
     },
     "execution_count": 31,
     "metadata": {},
     "output_type": "execute_result"
    }
   ],
   "source": [
    "cvs.mean()"
   ]
  },
  {
   "cell_type": "markdown",
   "id": "48f03b5c",
   "metadata": {
    "papermill": {
     "duration": 0.060613,
     "end_time": "2022-02-09T11:49:01.848195",
     "exception": false,
     "start_time": "2022-02-09T11:49:01.787582",
     "status": "completed"
    },
    "tags": []
   },
   "source": [
    "# Ensemble-Learning"
   ]
  },
  {
   "cell_type": "code",
   "execution_count": 32,
   "id": "5f6792e3",
   "metadata": {
    "execution": {
     "iopub.execute_input": "2022-02-09T11:49:01.973993Z",
     "iopub.status.busy": "2022-02-09T11:49:01.973194Z",
     "iopub.status.idle": "2022-02-09T11:49:02.004592Z",
     "shell.execute_reply": "2022-02-09T11:49:02.003878Z"
    },
    "papermill": {
     "duration": 0.095837,
     "end_time": "2022-02-09T11:49:02.004754",
     "exception": false,
     "start_time": "2022-02-09T11:49:01.908917",
     "status": "completed"
    },
    "tags": []
   },
   "outputs": [],
   "source": [
    "from sklearn.ensemble import VotingClassifier"
   ]
  },
  {
   "cell_type": "code",
   "execution_count": 33,
   "id": "8345a2e4",
   "metadata": {
    "execution": {
     "iopub.execute_input": "2022-02-09T11:49:02.129139Z",
     "iopub.status.busy": "2022-02-09T11:49:02.128448Z",
     "iopub.status.idle": "2022-02-09T11:49:02.131572Z",
     "shell.execute_reply": "2022-02-09T11:49:02.131005Z",
     "shell.execute_reply.started": "2022-02-09T10:14:39.786688Z"
    },
    "papermill": {
     "duration": 0.066716,
     "end_time": "2022-02-09T11:49:02.131718",
     "exception": false,
     "start_time": "2022-02-09T11:49:02.065002",
     "status": "completed"
    },
    "tags": []
   },
   "outputs": [],
   "source": [
    "from sklearn import svm\n",
    "from sklearn.linear_model import SGDRegressor\n",
    "from sklearn.tree import DecisionTreeRegressor\n",
    "from sklearn.neighbors import KNeighborsRegressor\n",
    "from sklearn.ensemble import VotingRegressor"
   ]
  },
  {
   "cell_type": "code",
   "execution_count": 34,
   "id": "3ef8b8b3",
   "metadata": {
    "execution": {
     "iopub.execute_input": "2022-02-09T11:49:02.258940Z",
     "iopub.status.busy": "2022-02-09T11:49:02.258237Z",
     "iopub.status.idle": "2022-02-09T11:49:02.354993Z",
     "shell.execute_reply": "2022-02-09T11:49:02.355646Z",
     "shell.execute_reply.started": "2022-02-09T10:19:24.821001Z"
    },
    "papermill": {
     "duration": 0.164395,
     "end_time": "2022-02-09T11:49:02.355845",
     "exception": false,
     "start_time": "2022-02-09T11:49:02.191450",
     "status": "completed"
    },
    "tags": []
   },
   "outputs": [
    {
     "name": "stdout",
     "output_type": "stream",
     "text": [
      "SGDRegressor 0.9987344167340045\n",
      "KNeighborsRegressor 0.998685906479463\n",
      "DecisionTreeRegressor 0.9997185688025686\n",
      "VotingRegressor 0.9994773992760356\n"
     ]
    }
   ],
   "source": [
    "model1=SGDRegressor(random_state=0)\n",
    "model2=KNeighborsRegressor(n_neighbors=5)\n",
    "model3=DecisionTreeRegressor()\n",
    "model4= VotingRegressor([('SGD',model1),\n",
    "                         ('KNN',model2),('tree',DecisionTreeRegressor())\n",
    "                         ])\n",
    "for model in (model1,model2,model3, model4):\n",
    "    model.fit(xtrain,ytrain)\n",
    "    print(model.__class__.__name__, model.score(xtest,ytest))\n",
    "    "
   ]
  },
  {
   "cell_type": "markdown",
   "id": "a8b0d99d",
   "metadata": {
    "papermill": {
     "duration": 0.058929,
     "end_time": "2022-02-09T11:49:02.475354",
     "exception": false,
     "start_time": "2022-02-09T11:49:02.416425",
     "status": "completed"
    },
    "tags": []
   },
   "source": [
    "# Bagging"
   ]
  },
  {
   "cell_type": "code",
   "execution_count": 35,
   "id": "b1597dd2",
   "metadata": {
    "execution": {
     "iopub.execute_input": "2022-02-09T11:49:02.601684Z",
     "iopub.status.busy": "2022-02-09T11:49:02.600994Z",
     "iopub.status.idle": "2022-02-09T11:49:04.071692Z",
     "shell.execute_reply": "2022-02-09T11:49:04.071038Z",
     "shell.execute_reply.started": "2022-02-09T10:20:45.3883Z"
    },
    "papermill": {
     "duration": 1.53772,
     "end_time": "2022-02-09T11:49:04.071850",
     "exception": false,
     "start_time": "2022-02-09T11:49:02.534130",
     "status": "completed"
    },
    "tags": []
   },
   "outputs": [
    {
     "data": {
      "text/plain": [
       "0.9998936072562888"
      ]
     },
     "execution_count": 35,
     "metadata": {},
     "output_type": "execute_result"
    }
   ],
   "source": [
    "from sklearn.ensemble import BaggingRegressor, RandomForestRegressor\n",
    "model =BaggingRegressor(base_estimator=DecisionTreeRegressor(), n_estimators=100)\n",
    "model.fit(xtrain,ytrain)\n",
    "model.score(xtest,ytest)"
   ]
  },
  {
   "cell_type": "markdown",
   "id": "0cabf73f",
   "metadata": {
    "papermill": {
     "duration": 0.05836,
     "end_time": "2022-02-09T11:49:04.189041",
     "exception": false,
     "start_time": "2022-02-09T11:49:04.130681",
     "status": "completed"
    },
    "tags": []
   },
   "source": [
    "best score ever"
   ]
  },
  {
   "cell_type": "markdown",
   "id": "a5fd4754",
   "metadata": {
    "execution": {
     "iopub.execute_input": "2022-02-09T10:29:19.041996Z",
     "iopub.status.busy": "2022-02-09T10:29:19.041586Z",
     "iopub.status.idle": "2022-02-09T10:29:19.048907Z",
     "shell.execute_reply": "2022-02-09T10:29:19.0477Z",
     "shell.execute_reply.started": "2022-02-09T10:29:19.041951Z"
    },
    "papermill": {
     "duration": 0.059156,
     "end_time": "2022-02-09T11:49:04.307267",
     "exception": false,
     "start_time": "2022-02-09T11:49:04.248111",
     "status": "completed"
    },
    "tags": []
   },
   "source": [
    "**Thankyou* for reading *"
   ]
  },
  {
   "cell_type": "code",
   "execution_count": null,
   "id": "8683efcc",
   "metadata": {
    "papermill": {
     "duration": 0.059324,
     "end_time": "2022-02-09T11:49:04.427468",
     "exception": false,
     "start_time": "2022-02-09T11:49:04.368144",
     "status": "completed"
    },
    "tags": []
   },
   "outputs": [],
   "source": []
  }
 ],
 "metadata": {
  "kernelspec": {
   "display_name": "Python 3",
   "language": "python",
   "name": "python3"
  },
  "language_info": {
   "codemirror_mode": {
    "name": "ipython",
    "version": 3
   },
   "file_extension": ".py",
   "mimetype": "text/x-python",
   "name": "python",
   "nbconvert_exporter": "python",
   "pygments_lexer": "ipython3",
   "version": "3.7.12"
  },
  "papermill": {
   "default_parameters": {},
   "duration": 35.738303,
   "end_time": "2022-02-09T11:49:05.502277",
   "environment_variables": {},
   "exception": null,
   "input_path": "__notebook__.ipynb",
   "output_path": "__notebook__.ipynb",
   "parameters": {},
   "start_time": "2022-02-09T11:48:29.763974",
   "version": "2.3.3"
  }
 },
 "nbformat": 4,
 "nbformat_minor": 5
}
